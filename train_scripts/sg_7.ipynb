{
 "cells": [
  {
   "cell_type": "markdown",
   "source": [
    "iccv_model_1: pocca + new_trick + merging + new_fps + rstj_aug + 8 patch num"
   ],
   "metadata": {
    "collapsed": false
   }
  },
  {
   "cell_type": "code",
   "execution_count": null,
   "outputs": [
    {
     "name": "stderr",
     "output_type": "stream",
     "text": [
      "/home/ies/qhuang/.virtualenvs/H_AttentionProject/lib/python3.10/site-packages/torch/cuda/__init__.py:546: UserWarning: Can't initialize NVML\n",
      "  warnings.warn(\"Can't initialize NVML\")\n"
     ]
    },
    {
     "name": "stdout",
     "output_type": "stream",
     "text": [
      "Start training at 2023-04-22 22:43:46.937829\n",
      "--------Epoch 0 is running--------\n",
      "Loss:  0.0708371177315712\n",
      "\n",
      "\n",
      "Model Saved!\n",
      "Time is: 2023-04-22 23:16:30.320029\n",
      "/n\n",
      "--------Epoch 1 is running--------\n"
     ]
    }
   ],
   "source": [
    "import os\n",
    "import torch\n",
    "\n",
    "import sys\n",
    "sys.path.append(\"..\")\n",
    "\n",
    "from models.iccv_model import SimAttention_ICCV_1\n",
    "from data.shapenet_loader import ShapeNetCLS_RSTJ\n",
    "from datetime import datetime\n",
    "\n",
    "# set gpu\n",
    "device = torch.device(\"cuda:1\" if torch.cuda.is_available() else \"cpu\")\n",
    "\n",
    "# hy-paras\n",
    "BATCS_SIZE = 8\n",
    "PATCH_NUM = 8\n",
    "EPOCHS = 100\n",
    "\n",
    "# data\n",
    "root = r'/home/ies/qhuang/H_AttentionProject/'\n",
    "dataset = ShapeNetCLS_RSTJ(root, 1024)\n",
    "trainDataLoader = torch.utils.data.DataLoader(dataset,\n",
    "        batch_size=BATCS_SIZE,\n",
    "        shuffle=True,\n",
    "        num_workers=8,\n",
    "        pin_memory=True)\n",
    "\n",
    "# set model\n",
    "model = SimAttention_ICCV_1(patch_num=PATCH_NUM)\n",
    "# optimizer = torch.optim.SGD(model.parameters(), lr=0.01, momentum=0.9)\n",
    "optimizer = torch.optim.Adam(model.parameters(), lr=1e-3, weight_decay=1e-6)\n",
    "scheduler = torch.optim.lr_scheduler.CosineAnnealingLR(optimizer, T_max=EPOCHS, eta_min=1e-5)\n",
    "\n",
    "# scheduler = torch.optim.lr_scheduler.StepLR(optimizer, step_size=50, gamma=0.3)\n",
    "\n",
    "def train_1_epoch(model, optimizer, data_loader, device):\n",
    "        model.train()\n",
    "        mean_loss = torch.zeros(1).to(device)\n",
    "        optimizer.zero_grad()\n",
    "        for step, data in enumerate(data_loader):\n",
    "                aug1, aug2 = data\n",
    "                # loss = model(aug1.to(device), aug2.to(device))\n",
    "                loss = model(aug1.to(device=device, dtype=torch.float),\n",
    "                             aug2.to(device=device, dtype=torch.float))\n",
    "                loss = loss.mean()\n",
    "                loss.backward()\n",
    "                mean_loss = (mean_loss * step + loss.detach()) / (step + 1)  # update mean losses\n",
    "                optimizer.step()\n",
    "                optimizer.zero_grad()\n",
    "        return mean_loss.item()\n",
    "\n",
    "print('Start training at {}'.format(datetime.now()))\n",
    "for epoch in range(0, EPOCHS):\n",
    "    print('--------Epoch {} is running--------'.format(epoch))\n",
    "    loss = train_1_epoch(model, optimizer, trainDataLoader, device)\n",
    "    print(\"Loss: \", loss)\n",
    "    print('\\n')\n",
    "    scheduler.step()\n",
    "    if epoch%5==0 or (epoch+1)==EPOCHS:\n",
    "        weight_name = 'cls_dg_iccv1_sg7_100_' + str(epoch) + '.pth'\n",
    "        weight_path = os.path.join(r'/home/ies/qhuang/H_AttentionProject/weights/sg_7', weight_name)\n",
    "        torch.save(model.state_dict(), weight_path)\n",
    "        print('Model Saved!')\n",
    "    print(\"Time is: {}\".format(datetime.now()))\n",
    "    print('/n')\n",
    "\n",
    "print(\"End at {}\".format(datetime.now()))"
   ],
   "metadata": {
    "collapsed": false,
    "pycharm": {
     "is_executing": true
    }
   }
  },
  {
   "cell_type": "code",
   "execution_count": null,
   "outputs": [],
   "source": [],
   "metadata": {
    "collapsed": false
   }
  }
 ],
 "metadata": {
  "kernelspec": {
   "display_name": "Python 3",
   "language": "python",
   "name": "python3"
  },
  "language_info": {
   "codemirror_mode": {
    "name": "ipython",
    "version": 2
   },
   "file_extension": ".py",
   "mimetype": "text/x-python",
   "name": "python",
   "nbconvert_exporter": "python",
   "pygments_lexer": "ipython2",
   "version": "2.7.6"
  }
 },
 "nbformat": 4,
 "nbformat_minor": 0
}
